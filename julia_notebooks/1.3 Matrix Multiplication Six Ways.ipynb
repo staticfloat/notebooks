{
 "metadata": {
  "language": "Julia",
  "name": "",
  "signature": "sha256:defdcc28014e5bc7996d7b8b265a93f49fa4a710aa876d6168f27dfe3fe317ac"
 },
 "nbformat": 3,
 "nbformat_minor": 0,
 "worksheets": [
  {
   "cells": [
    {
     "cell_type": "markdown",
     "metadata": {},
     "source": [
      "In high school you may have learned one way to multiply matrices.<br>\n",
      "Chatper 2.4 of your text illustrates many ways. <br>\n",
      "\n",
      "1. The high school or dot product way appears on pages 67 and pages 68. <br>\n",
      "It says that the entry in the $(i,j)$ position is $c_{ij}=\\sum_k a_{ik} b_{kj}$. <br> <br>\n",
      "2. The matrix times column away appears on the top of page 69. <br><br>\n",
      "3. The row times matrix approach, also on the top of page 69. <br> <br>\n",
      "4.  The column times row approach in Example 3 on the top og page 71. <br> <br>\n",
      "\n",
      "The code below implements a basic matrix multiply for square matrices.  \n",
      "If you are not using Julia, write one in your language.  Either way check a few\n",
      "3x3 examples, say, and see that it is correct.\n"
     ]
    },
    {
     "cell_type": "code",
     "collapsed": false,
     "input": [
      "function matmul_ijk(a,b)\n",
      "    n=size(a,1)\n",
      "    c=zeros(a)\n",
      "    for i=1:n, j=1:n, k=1:n      \n",
      "        c[i,j] +=  a[i,k] * b[k,j]\n",
      "    end\n",
      "    c\n",
      " \n",
      "end"
     ],
     "language": "python",
     "metadata": {},
     "outputs": [
      {
       "metadata": {},
       "output_type": "pyout",
       "prompt_number": 1,
       "text": [
        "matmul_ijk (generic function with 1 method)"
       ]
      }
     ],
     "prompt_number": 1
    },
    {
     "cell_type": "code",
     "collapsed": false,
     "input": [
      "A=rand(0:2,3,3); println(A)\n",
      "B=rand(0:1,3,3); println(B)\n",
      "matmul_ijk(A,B)"
     ],
     "language": "python",
     "metadata": {},
     "outputs": [
      {
       "output_type": "stream",
       "stream": "stdout",
       "text": [
        "[1"
       ]
      },
      {
       "output_type": "stream",
       "stream": "stdout",
       "text": [
        " 0 2\n",
        " 1 1 2\n",
        " 2 2 0]\n",
        "[1 1 0\n",
        " 0 1 0\n",
        " 0 1 0]\n"
       ]
      },
      {
       "metadata": {},
       "output_type": "pyout",
       "prompt_number": 2,
       "text": [
        "3x3 Array{Int64,2}:\n",
        " 1  3  0\n",
        " 1  4  0\n",
        " 2  4  0"
       ]
      }
     ],
     "prompt_number": 2
    },
    {
     "cell_type": "markdown",
     "metadata": {},
     "source": [
      "In the code above the \"i loop\" is the outer loop. It runs the slowest,\n",
      "like the leftmost odomoter digit in a car.  The \"j loop\"is next, and the \"k loop\" runs the fastest like the rightmost\n",
      "odomoter digit in a car. <br><br>\n",
      "\n",
      "There are six ways to reorder these three loops.  Are they all correct matrix multiplies? For example\n",
      "try the \"jki\" method:"
     ]
    },
    {
     "cell_type": "code",
     "collapsed": false,
     "input": [
      "function matmul_jki(a,b)\n",
      "    n=size(a,1)\n",
      "    c=zeros(a)\n",
      "    for j=1:n, k=1:n, i=1:n      \n",
      "        c[i,j] +=  a[i,k] * b[k,j]\n",
      "    end\n",
      "    c\n",
      " \n",
      "end"
     ],
     "language": "python",
     "metadata": {},
     "outputs": [
      {
       "metadata": {},
       "output_type": "pyout",
       "prompt_number": 3,
       "text": [
        "matmul_jki (generic function with 1 method)"
       ]
      }
     ],
     "prompt_number": 3
    },
    {
     "cell_type": "code",
     "collapsed": false,
     "input": [
      "matmul_jki(A,B)"
     ],
     "language": "python",
     "metadata": {},
     "outputs": [
      {
       "metadata": {},
       "output_type": "pyout",
       "prompt_number": 4,
       "text": [
        "3x3 Array{Int64,2}:\n",
        " 1  3  0\n",
        " 1  4  0\n",
        " 2  4  0"
       ]
      }
     ],
     "prompt_number": 4
    },
    {
     "cell_type": "markdown",
     "metadata": {},
     "source": [
      "There are six ways to reorder the loops ijk,ikj,jik,jki,kij,kji. <br>\n",
      "For each of the six ways, decide whether it is of type 1, type 2, type 3, or type 4 in the list\n",
      "repeated here for convenience: <br><br>\n",
      "When there is more than 1 of a particular type, explain how they are different\n",
      "in terms of the order in which elements are  computed. <br>\n",
      "Some codes that follow may  help in your investigation.\n",
      "\n",
      "1. The high school or dot product way appears on pages 67 and pages 68. <br>\n",
      "It says that the entry in the $(i,j)$ position is $c_{ij}=\\sum_k a_{ik} b_{kj}$. <br> <br>\n",
      "2. The matrix times column away appears on the top of page 69. <br><br>\n",
      "3. The row times matrix approach, also on the top of page 69. <br> <br>\n",
      "4.  The column times row approach in Example 3 on the top og page 71. <br> <br>\n"
     ]
    },
    {
     "cell_type": "heading",
     "level": 3,
     "metadata": {},
     "source": [
      "Print every step of the matmul algorithm:"
     ]
    },
    {
     "cell_type": "code",
     "collapsed": false,
     "input": [
      "function matmul_ijk(a,b)\n",
      "    step=0\n",
      "    n=size(a,1)\n",
      "    c=zeros(a)\n",
      "    for i=1:n, j=1:n, k=1:n            \n",
      "        c[i,j] +=  a[i,k] * b[k,j]\n",
      "        step+=1\n",
      "        println(\"Step \", step,\" :\",\"\\n\",c)\n",
      "    end\n",
      "    c\n",
      " \n",
      "end"
     ],
     "language": "python",
     "metadata": {},
     "outputs": [
      {
       "metadata": {},
       "output_type": "pyout",
       "prompt_number": 5,
       "text": [
        "matmul_ijk (generic function with 1 method)"
       ]
      }
     ],
     "prompt_number": 5
    },
    {
     "cell_type": "markdown",
     "metadata": {},
     "source": [
      "o=int(ones(3,3))  # You can use any matrix, but I think the integer matrix of ones makes it easy\n",
      "matmul_ijk(o,o)"
     ]
    },
    {
     "cell_type": "markdown",
     "metadata": {},
     "source": [
      "In Julia and perhaps your language, there are knobs that make it even easier\n",
      "to watch the algorithm in action."
     ]
    },
    {
     "cell_type": "code",
     "collapsed": false,
     "input": [
      "using Interact # Only needed once to load @manipulate"
     ],
     "language": "python",
     "metadata": {},
     "outputs": [
      {
       "html": [
        "<script charset=\"utf-8\">(function ($, undefined) {\n",
        "\n",
        "    function createElem(tag, attr, content) {\n",
        "\t// TODO: remove jQuery dependency\n",
        "\tvar el = $(\"<\" + tag + \"/>\").attr(attr);\n",
        "\tif (content) {\n",
        "\t    el.append(content);\n",
        "\t}\n",
        "\treturn el[0];\n",
        "    }\n",
        "\n",
        "    // A widget must expose an id field which identifies it to the backend,\n",
        "    // an elem attribute which is will be added to the DOM, and\n",
        "    // a getState() method which returns the value to be sent to the backend\n",
        "    // a sendUpdate() method which sends its current value to the backend\n",
        "    var Widget = {\n",
        "\tid: undefined,\n",
        "\telem: undefined,\n",
        "\tlabel: undefined,\n",
        "\tgetState: function () {\n",
        "\t    return this.elem.value;\n",
        "\t},\n",
        "\tsendUpdate: undefined\n",
        "    };\n",
        "\n",
        "    var Slider = function (typ, id, init) {\n",
        "\tvar attr = { type:  \"range\",\n",
        "\t\t     value: init.value,\n",
        "\t\t     min:   init.min,\n",
        "\t\t     max:   init.max,\n",
        "\t\t     step:  init.step },\n",
        "\t    elem = createElem(\"input\", attr),\n",
        "\t    self = this;\n",
        "\n",
        "\telem.onchange = function () {\n",
        "\t    self.sendUpdate();\n",
        "\t}\n",
        "\n",
        "\tthis.id = id;\n",
        "\tthis.elem = elem;\n",
        "\tthis.label = init.label;\n",
        "\n",
        "\tInputWidgets.commInitializer(this); // Initialize communication\n",
        "    }\n",
        "    Slider.prototype = Widget;\n",
        "\n",
        "    var Checkbox = function (typ, id, init) {\n",
        "\tvar attr = { type: \"checkbox\",\n",
        "\t\t     checked: init.value },\n",
        "\t    elem = createElem(\"input\", attr),\n",
        "\t    self = this;\n",
        "\n",
        "\tthis.getState = function () {\n",
        "\t    return elem.checked;\n",
        "\t}\n",
        "\telem.onchange = function () {\n",
        "\t    self.sendUpdate();\n",
        "\t}\n",
        "\n",
        "\tthis.id = id;\n",
        "\tthis.elem = elem;\n",
        "\tthis.label = init.label;\n",
        "\n",
        "\tInputWidgets.commInitializer(this);\n",
        "    }\n",
        "    Checkbox.prototype = Widget;\n",
        "\n",
        "    var Button = function (typ, id, init) {\n",
        "\tvar attr = { type:    \"button\",\n",
        "\t\t     value:   init.label },\n",
        "\t    elem = createElem(\"input\", attr),\n",
        "\t    self = this;\n",
        "\tthis.getState = function () {\n",
        "\t    return null;\n",
        "\t}\n",
        "\telem.onclick = function () {\n",
        "\t    self.sendUpdate();\n",
        "\t}\n",
        "\n",
        "\tthis.id = id;\n",
        "\tthis.elem = elem;\n",
        "\tthis.label = init.label;\n",
        "\n",
        "\tInputWidgets.commInitializer(this);\n",
        "    }\n",
        "    Button.prototype = Widget;\n",
        "\n",
        "    var Text = function (typ, id, init) {\n",
        "\tvar attr = { type:  \"text\",\n",
        "\t\t     placeholder: init.label,\n",
        "\t\t     value: init.value },\n",
        "\t    elem = createElem(\"input\", attr),\n",
        "\t    self = this;\n",
        "\tthis.getState = function () {\n",
        "\t    return elem.value;\n",
        "\t}\n",
        "\telem.onkeyup = function () {\n",
        "\t    self.sendUpdate();\n",
        "\t}\n",
        "\n",
        "\tthis.id = id;\n",
        "\tthis.elem = elem;\n",
        "\tthis.label = init.label;\n",
        "\n",
        "\tInputWidgets.commInitializer(this);\n",
        "    }\n",
        "    Text.prototype = Widget;\n",
        "\n",
        "    var Textarea = function (typ, id, init) {\n",
        "\tvar attr = { placeholder: init.label },\n",
        "\t    elem = createElem(\"textarea\", attr, init.value),\n",
        "\t    self = this;\n",
        "\tthis.getState = function () {\n",
        "\t    return elem.value;\n",
        "\t}\n",
        "\telem.onchange = function () {\n",
        "\t    self.sendUpdate();\n",
        "\t}\n",
        "\n",
        "\tthis.id = id;\n",
        "\tthis.elem = elem;\n",
        "\tthis.label = init.label;\n",
        "\n",
        "\tInputWidgets.commInitializer(this);\n",
        "    }\n",
        "    Textarea.prototype = Widget;\n",
        "\n",
        "    // RadioButtons\n",
        "    // Dropdown\n",
        "    // HTML\n",
        "    // Latex\n",
        "\n",
        "    var InputWidgets = {\n",
        "\tSlider: Slider,\n",
        "\tCheckbox: Checkbox,\n",
        "\tButton: Button,\n",
        "\tText: Text,\n",
        "\tTextarea: Textarea,\n",
        "\tdebug: false,\n",
        "\tlog: function () {\n",
        "\t    if (InputWidgets.debug) {\n",
        "\t\tconsole.log.apply(console, arguments);\n",
        "\t    }\n",
        "\t},\n",
        "\t// a central way to initalize communication\n",
        "\t// for widgets.\n",
        "\tcommInitializer: function (widget) {\n",
        "\t    widget.sendUpdate = function () {};\n",
        "\t}\n",
        "    };\n",
        "\n",
        "    window.InputWidgets = InputWidgets;\n",
        "\n",
        "})(jQuery, undefined);\n",
        "</script>"
       ],
       "metadata": {},
       "output_type": "display_data"
      },
      {
       "html": [
        "<script charset=\"utf-8\">(function (IPython, $, _, MathJax, Widgets) {\n",
        "    $.event.special.destroyed = {\n",
        "\tremove: function(o) {\n",
        "\t    if (o.handler) {\n",
        "\t\to.handler.apply(this, arguments)\n",
        "\t    }\n",
        "\t}\n",
        "    }\n",
        "\n",
        "    $(document).ready(function() {\n",
        "\tWidgets.debug = false; // log messages etc in console.\n",
        "\tfunction initComm(evt, data) {\n",
        "\t    var comm_manager = data.kernel.comm_manager;\n",
        "\t    comm_manager.register_target(\"Signal\", function (comm) {\n",
        "\t\tcomm.on_msg(function (msg) {\n",
        "\t\t    //Widgets.log(\"message received\", msg);\n",
        "\t\t    var val = msg.content.data.value;\n",
        "\t\t    $(\".signal-\" + comm.comm_id).each(function() {\n",
        "\t\t\tvar self = this;\n",
        "\t\t\tvar type = $(this).data(\"type\");\n",
        "\t\t\tif (val[type]) {\n",
        "\t\t\t    $(self).empty();\n",
        "\t\t\t    var selector = $(\"<div/>\");\n",
        "\t\t\t    var oa = new IPython.OutputArea(_.extend(selector, {\n",
        "\t\t\t\tselector: selector,\n",
        "\t\t\t\tprompt_area: true,\n",
        "\t\t\t\tevents: IPython.events,\n",
        "\t\t\t\tkeyboard_manager: IPython.keyboard_manager\n",
        "\t\t\t    })); // Hack to work with IPython 2.1.0\n",
        "\t\t\t    var toinsert = IPython.OutputArea.append_map[type].apply(\n",
        "\t\t\t\toa, [val[type], {}, selector]\n",
        "\t\t\t    );\n",
        "\t\t\t    if (type === \"text/latex\" && MathJax) {\n",
        "\t\t\t\tMathJax.Hub.Queue([\"Typeset\", MathJax.Hub, toinsert.get(0)]);\n",
        "\t\t\t    }\n",
        "\n",
        "\t\t\t    $(self).append(toinsert.contents());\n",
        "\t\t\t    selector.remove();\n",
        "\t\t\t}\n",
        "\t\t    });\n",
        "\t\t    delete val;\n",
        "\t\t    delete msg.content.data.value;\n",
        "\t\t});\n",
        "\t    });\n",
        "\n",
        "\t    // coordingate with Comm and redraw Signals\n",
        "\t    // XXX: Test using Reactive here to improve performance\n",
        "\t    $([IPython.events]).on(\n",
        "\t\t'output_appended.OutputArea', function (event, type, value, md, toinsert) {\n",
        "\t\t    if (md && md.reactive) {\n",
        "\t\t\t// console.log(md.comm_id);\n",
        "\t\t\ttoinsert.addClass(\"signal-\" + md.comm_id);\n",
        "\t\t\ttoinsert.data(\"type\", type);\n",
        "\t\t\t// Signal back indicating the mimetype required\n",
        "\t\t\tvar comm_manager = IPython.notebook.kernel.comm_manager;\n",
        "\t\t\tvar comm = comm_manager.comms[md.comm_id];\n",
        "\t\t\tcomm.send({action: \"subscribe_mime\",\n",
        "\t\t\t\t   mime: type});\n",
        "\t\t\ttoinsert.bind(\"destroyed\", function() {\n",
        "\t\t\t    comm.send({action: \"unsubscribe_mime\",\n",
        "\t\t\t\t       mime: type});\n",
        "\t\t\t});\n",
        "\t\t    }\n",
        "\t    });\n",
        "\n",
        "\t    // Set up communication for Widgets\n",
        "\t    Widgets.commInitializer = function (widget) {\n",
        "\t\tvar comm = comm_manager.new_comm(\n",
        "\t\t    \"InputWidget\", {widget_id: widget.id}\n",
        "\t\t);\n",
        "\t\twidget.sendUpdate = function () {\n",
        "\t\t    // `this` is a widget here.\n",
        "\t\t    // TODO: I have a feeling there's some\n",
        "\t\t    //       IPython bookkeeping to be done here.\n",
        "\t\t    // Widgets.log(\"State changed\", this, this.getState());\n",
        "\t\t    comm.send({value: this.getState()});\n",
        "\t\t}\n",
        "\t    };\n",
        "\t}\n",
        "\n",
        "\ttry {\n",
        "\t    // try to initialize right away. otherwise, wait on the status_started event.\n",
        "\t    initComm(undefined, IPython.notebook);\n",
        "\t} catch (e) {\n",
        "\t    $([IPython.events]).on('status_started.Kernel', initComm);\n",
        "\t}\n",
        "    });\n",
        "})(IPython, jQuery, _, MathJax, InputWidgets);\n",
        "</script>"
       ],
       "metadata": {},
       "output_type": "display_data"
      }
     ],
     "prompt_number": 12
    },
    {
     "cell_type": "markdown",
     "metadata": {},
     "source": [
      "Add code to stop at a certain step"
     ]
    },
    {
     "cell_type": "code",
     "collapsed": false,
     "input": [
      "function matmul_ijk(a,b,stop)\n",
      "    step=0\n",
      "    n=size(a,1)\n",
      "    c=zeros(a)\n",
      "    for i=1:n, j=1:n, k=1:n  \n",
      "        if step==stop;  return(c); end\n",
      "        c[i,j] +=  a[i,k] * b[k,j]\n",
      "        step+=1\n",
      "    end\n",
      "    c\n",
      " end"
     ],
     "language": "python",
     "metadata": {},
     "outputs": [
      {
       "metadata": {},
       "output_type": "pyout",
       "prompt_number": 7,
       "text": [
        "matmul_ijk (generic function with 2 methods)"
       ]
      }
     ],
     "prompt_number": 7
    },
    {
     "cell_type": "code",
     "collapsed": false,
     "input": [
      "n=10\n",
      "o=int(ones(n,n))\n",
      "@manipulate for stop=0:n^3\n",
      "    matmul_ijk(o,o,stop)\n",
      "\n",
      "end"
     ],
     "language": "python",
     "metadata": {},
     "outputs": [
      {
       "html": [],
       "metadata": {},
       "output_type": "display_data",
       "text": [
        "Slider{Int64}([Input{Int64}] 500,\"stop\",500,0:1000)"
       ]
      },
      {
       "metadata": {
        "comm_id": "72b6ea22-bae2-46c2-abaf-62a9d8ae8e24",
        "reactive": true
       },
       "output_type": "pyout",
       "prompt_number": 13,
       "text": [
        "10x10 Array{Int64,2}:\n",
        " 10  10  10  10  10  10  10  10  10  10\n",
        " 10  10  10  10  10  10  10  10  10  10\n",
        " 10  10  10  10  10  10  10  10  10  10\n",
        " 10  10  10  10  10  10  10  10  10  10\n",
        " 10  10  10  10  10  10  10  10  10  10\n",
        "  0   0   0   0   0   0   0   0   0   0\n",
        "  0   0   0   0   0   0   0   0   0   0\n",
        "  0   0   0   0   0   0   0   0   0   0\n",
        "  0   0   0   0   0   0   0   0   0   0\n",
        "  0   0   0   0   0   0   0   0   0   0"
       ]
      }
     ],
     "prompt_number": 13
    },
    {
     "cell_type": "code",
     "collapsed": false,
     "input": [
      "function matmul_kji(a,b,stop)\n",
      "    step=0\n",
      "    n=size(a,1)\n",
      "    c=zeros(a)\n",
      "    for k=1:n, j=1:n, i=1:n  \n",
      "        if step==stop;  return(c); end\n",
      "        c[i,j] +=  a[i,k] * b[k,j]\n",
      "        step+=1\n",
      "    end\n",
      "    c\n",
      " end"
     ],
     "language": "python",
     "metadata": {},
     "outputs": [
      {
       "metadata": {},
       "output_type": "pyout",
       "prompt_number": 9,
       "text": [
        "matmul_kji (generic function with 1 method)"
       ]
      }
     ],
     "prompt_number": 9
    },
    {
     "cell_type": "code",
     "collapsed": false,
     "input": [
      "n=10\n",
      "o=int(ones(n,n))\n",
      "@manipulate for stop=0:n^3\n",
      "    matmul_kji(o,o,stop)\n",
      "end"
     ],
     "language": "python",
     "metadata": {},
     "outputs": [
      {
       "html": [],
       "metadata": {},
       "output_type": "display_data",
       "text": [
        "Slider{Int64}([Input{Int64}] 500,\"stop\",500,0:1000)"
       ]
      },
      {
       "metadata": {
        "comm_id": "e1ddcb3d-aea0-4b4e-9d31-a9029e3d6c6c",
        "reactive": true
       },
       "output_type": "pyout",
       "prompt_number": 14,
       "text": [
        "10x10 Array{Int64,2}:\n",
        " 5  5  5  5  5  5  5  5  5  5\n",
        " 5  5  5  5  5  5  5  5  5  5\n",
        " 5  5  5  5  5  5  5  5  5  5\n",
        " 5  5  5  5  5  5  5  5  5  5\n",
        " 5  5  5  5  5  5  5  5  5  5\n",
        " 5  5  5  5  5  5  5  5  5  5\n",
        " 5  5  5  5  5  5  5  5  5  5\n",
        " 5  5  5  5  5  5  5  5  5  5\n",
        " 5  5  5  5  5  5  5  5  5  5\n",
        " 5  5  5  5  5  5  5  5  5  5"
       ]
      }
     ],
     "prompt_number": 14
    },
    {
     "cell_type": "code",
     "collapsed": false,
     "input": [],
     "language": "python",
     "metadata": {},
     "outputs": [],
     "prompt_number": 11
    }
   ],
   "metadata": {}
  }
 ]
}