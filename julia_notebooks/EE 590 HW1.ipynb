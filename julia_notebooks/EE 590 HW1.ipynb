{
 "metadata": {
  "language": "Julia",
  "name": "",
  "signature": "sha256:aef07fcd0bbe063b4aad302eaab0efdbd7938fed62d5b2778acebb4c60e35171"
 },
 "nbformat": 3,
 "nbformat_minor": 0,
 "worksheets": [
  {
   "cells": [
    {
     "cell_type": "markdown",
     "metadata": {},
     "source": [
      "EE 590 Homework 1 -- QR Decompositions\n",
      "======================================\n",
      "\n",
      "The purpose of this homework is to explore the QR decomposition of matricies, with particular attention paid to linear algebraic and numerical stability.  I will implement the algorithm request in Julia, MATLAB, and Python, comparing the three for readability/ease of use and speed.  First, let's go over some theory:\n",
      "\n",
      "Theory of QR decomposition\n",
      "--------------------------\n",
      "\n",
      "The QR decomposition is defined by the following equivalence:\n",
      "\n",
      "$$\n",
      "A = Q R\n",
      "$$\n",
      "Where $Q$ is orthonormal, $R$ is upper triangular, and\n",
      "$$\n",
      "A \\in \\mathbb{C}^{n \\times m}, \\quad\n",
      "Q \\in \\mathbb{C}^{n \\times n}, \\quad\n",
      "R \\in \\mathbb{C}^{n \\times m}\n",
      "$$\n",
      "\n",
      "This decomposition can be seen as the decomposition of $A$ onto a set of orthonormal basis vectors.  The residual of the decomposition serves as the weights required upon each basis vector in order to reconstruct each column of $A$.  The matrices $Q$ and $R$ therefore represent the orthonormal basis vector set and the residual weights set, respectively.  In order to ensure the triangular nature of $R$, it is therefore necessary to represent the first column of $A$ as a linear combination of only one basis vector, the second column of $A$ as a linear combination of only two basis vectors, and so on.  We therefore construct an orthonormal set spanning $A$ by taking the first column of $A$ as our first basis vector:\n",
      "\n",
      "$$\n",
      "v_1 = A_{1} \\quad \\rightarrow \\quad u_1 = \\frac{v_1}{\\|v_1\\|}\n",
      "$$\n",
      "\n",
      "The second column of $A$ can therefore be expressed as a linear combination of this first basis vector $u_1$ and whatever component is necessary to move along the orthogonal direction from $u_1$ to $A_2$:\n",
      "\n",
      "$$\n",
      "v_2 = A_{2} - \\frac{\\langle A_{2},u_1 \\rangle}{\\langle u_1,u_1 \\rangle} u_1 \\quad \\rightarrow \\quad u_2 = \\frac{v_2}{\\|v_2\\|}\n",
      "$$\n",
      "\n",
      "...and so on for further columns. This therefore gives closed-form expressions for the first two orthonormal basis vectors, which represent the first two columns of $Q$.  Expressing the first column of $A$ in terms of these two basis vectors is trivial:\n",
      "\n",
      "$$\n",
      "A_{1} = \\langle A_{1}, u_1 \\rangle u_1\n",
      "$$\n",
      "\n",
      "The second column of $A$ is similarly straightforward:\n",
      "$$\n",
      "A_{2} = \\langle A_{2}, u_1 \\rangle u_1 + \\langle A_{2}, u_2 \\rangle u_2\n",
      "$$\n",
      "\n",
      "We can see the evident pattern, giving us the general closed-form solution for any column $A_{j}$:\n",
      "$$\n",
      "A_{j} = \\sum_i^j \\langle A_{j}, u_i \\rangle u_i\n",
      "$$\n",
      "\n",
      "This therefore yields a triangular structure on $R$, as the projection terms are the entries of the $R$ matrix.  The columns of the $Q$ matrix are orthogonal and normal by construction, therefore $Q$ and $R$ satisfy all requirements on them."
     ]
    },
    {
     "cell_type": "markdown",
     "metadata": {},
     "source": [
      "Julia Code\n",
      "----------\n",
      "\n",
      "Let's start off with the Julia code.  "
     ]
    },
    {
     "cell_type": "code",
     "collapsed": false,
     "input": [
      "# Let's import some testing macros so we can use @test and @test_approx_eq\n",
      "using Base.Test\n",
      "\n",
      "# Given A, return a matrix of orthonormal basis vectors taken from the columns of A\n",
      "function gram_schmidt{T}(A::Array{T})\n",
      "    # This is where we'll store our basis vectors\n",
      "    basis_vectors = Array(T, size(A)[1], size(A)[1] )\n",
      "    \n",
      "    # As a base case, just normalize A[:,1] and call it a basis vector\n",
      "    basis_vectors[:,1] = A[:,1]/norm(A[:,1])\n",
      "\n",
      "    # For each column, make orthogonal to all previous columns and scale, then store in basis_vectors\n",
      "    for i in 2:size(A,1)\n",
      "        # Grab v_i, the current column of A\n",
      "        v_i = A[:,i]\n",
      "        \n",
      "        # Calculate all projections of v_i onto the basis functions we have calculated so far and subtract them from v_i\n",
      "        u_i = v_i\n",
      "        for j in 1:(i-1)\n",
      "            u_j = basis_vectors[:,j]\n",
      "            \n",
      "            # Subtract the projection of v_i onto u_j from u_i\n",
      "            u_i -= dot(v_i, u_j) * u_j\n",
      "        end\n",
      "        \n",
      "        # Normalize the resultant u_i and store it in basis_vectors\n",
      "        basis_vectors[:,i] = u_i/norm(u_i)\n",
      "    end\n",
      "    \n",
      "    return basis_vectors\n",
      "end\n",
      "\n",
      "# Given A, decompose it via A = QR where Q is orthonormal and R is upper-triangular\n",
      "function qr(A)\n",
      "    # First, calculate Q\n",
      "    Q = gram_schmidt(A)\n",
      "    \n",
      "    # Now we can directly calculate R since we know that Q' == Q^-1\n",
      "    # We will also create an upper triangular matrix datatype here, because Julia is awesome and has things like that.\n",
      "    R = Triangular(Q' * A, :U)\n",
      "    return Q, R\n",
      "end"
     ],
     "language": "python",
     "metadata": {},
     "outputs": [
      {
       "metadata": {},
       "output_type": "pyout",
       "prompt_number": 74,
       "text": [
        "qr (generic function with 1 method)"
       ]
      }
     ],
     "prompt_number": 74
    },
    {
     "cell_type": "code",
     "collapsed": false,
     "input": [
      "# Generate a random 4x4 matrix A\n",
      "A = randn(4,4)\n",
      "Q, R = qr(A)\n",
      "\n",
      "\n",
      "# Run a few quick sanity checks to make sure everything's on the up-and-up\n",
      "@test_approx_eq(Q'*Q, eye(4))\n",
      "@test_approx_eq(Q*R, A)\n",
      "# Unfortunately, we cannot directly test to see \n",
      "#@test istriu(R)\n",
      "display(R)"
     ],
     "language": "python",
     "metadata": {},
     "outputs": [
      {
       "metadata": {},
       "output_type": "display_data",
       "text": [
        "4x4 Triangular{Float64,Array{Float64,2},:U,false}:\n",
        " 1.50807  -0.770518  -1.47678    0.538116\n",
        " 0.0       1.25344    0.807907   0.824566\n",
        " 0.0       0.0        0.845649  -0.566214\n",
        " 0.0       0.0        0.0        0.831611"
       ]
      }
     ],
     "prompt_number": 75
    }
   ],
   "metadata": {}
  }
 ]
}