{
 "metadata": {
  "language": "Julia",
  "name": "",
  "signature": "sha256:ba78fd6b07193c1512475a8806997c180ba8b474b1a327143741d4dc902fed2f"
 },
 "nbformat": 3,
 "nbformat_minor": 0,
 "worksheets": [
  {
   "cells": [
    {
     "cell_type": "code",
     "collapsed": false,
     "input": [
      "using GraphViz\n",
      "\n",
      "Graph(\"\"\"\n",
      "graph graphname {\n",
      "     // The label attribute can be used to change the label of a node\n",
      "     a [label=\"Foo\"];\n",
      "     // Here, the node shape is changed.\n",
      "     b [shape=box];\n",
      "     // These edges both have different line properties\n",
      "     a -- b -- c [color=blue];\n",
      "     b -- d [style=dotted];\n",
      " }\n",
      "\"\"\")"
     ],
     "language": "python",
     "metadata": {},
     "outputs": [
      {
       "metadata": {},
       "output_type": "pyout",
       "png": "[encoded data removed]",
       "prompt_number": 1,
       "svg": [
        "<?xml version=\"1.0\" encoding=\"UTF-8\" standalone=\"no\"?>\n",
        "<!DOCTYPE svg PUBLIC \"-//W3C//DTD SVG 1.1//EN\"\n",
        " \"http://www.w3.org/Graphics/SVG/1.1/DTD/svg11.dtd\">\n",
        "<!-- Generated by graphviz version 2.38.0 (20140413.2041)\n",
        " -->\n",
        "<!-- Title: graphname Pages: 1 -->\n",
        "<svg width=\"184pt\" height=\"176pt\"\n",
        " viewBox=\"0.00 0.00 184.31 176.18\" xmlns=\"http://www.w3.org/2000/svg\" xmlns:xlink=\"http://www.w3.org/1999/xlink\">\n",
        "<g id=\"graph0\" class=\"graph\" transform=\"scale(1 1) rotate(0) translate(107.053 92.85)\">\n",
        "<title>graphname</title>\n",
        "<polygon fill=\"white\" stroke=\"none\" points=\"-107.053,83.3315 -107.053,-92.85 77.2538,-92.85 77.2538,83.3315 -107.053,83.3315\"/>\n",
        "<!-- a -->\n",
        "<g id=\"node1\" class=\"node\"><title>a</title>\n",
        "<ellipse fill=\"none\" stroke=\"black\" cx=\"-76.0525\" cy=\"9.52734\" rx=\"27\" ry=\"18\"/>\n",
        "<text text-anchor=\"middle\" x=\"-76.0525\" y=\"13.2273\" font-family=\"Times,serif\" font-size=\"14.00\">Foo</text>\n",
        "</g>\n",
        "<!-- b -->\n",
        "<g id=\"node2\" class=\"node\"><title>b</title>\n",
        "<polygon fill=\"none\" stroke=\"black\" points=\"27.1368,-18.0088 -26.8632,-18.0088 -26.8632,17.9912 27.1368,17.9912 27.1368,-18.0088\"/>\n",
        "<text text-anchor=\"middle\" x=\"0.136761\" y=\"3.69119\" font-family=\"Times,serif\" font-size=\"14.00\">b</text>\n",
        "</g>\n",
        "<!-- a&#45;&#45;b -->\n",
        "<g id=\"edge1\" class=\"edge\"><title>a&#45;&#45;b</title>\n",
        "<path fill=\"none\" stroke=\"blue\" d=\"M-49.4052,6.19206C-42.1102,5.27899 -34.1978,4.28864 -26.8822,3.373\"/>\n",
        "</g>\n",
        "<!-- c -->\n",
        "<g id=\"node3\" class=\"node\"><title>c</title>\n",
        "<ellipse fill=\"none\" stroke=\"black\" cx=\"46.2538\" cy=\"61.3315\" rx=\"27\" ry=\"18\"/>\n",
        "<text text-anchor=\"middle\" x=\"46.2538\" y=\"65.0315\" font-family=\"Times,serif\" font-size=\"14.00\">c</text>\n",
        "</g>\n",
        "<!-- b&#45;&#45;c -->\n",
        "<g id=\"edge2\" class=\"edge\"><title>b&#45;&#45;c</title>\n",
        "<path fill=\"none\" stroke=\"blue\" d=\"M13.724,18.0635C20.1006,26.545 27.6468,36.5823 33.865,44.8531\"/>\n",
        "</g>\n",
        "<!-- d -->\n",
        "<g id=\"node4\" class=\"node\"><title>d</title>\n",
        "<ellipse fill=\"none\" stroke=\"black\" cx=\"29.6619\" cy=\"-70.85\" rx=\"27\" ry=\"18\"/>\n",
        "<text text-anchor=\"middle\" x=\"29.6619\" y=\"-67.15\" font-family=\"Times,serif\" font-size=\"14.00\">d</text>\n",
        "</g>\n",
        "<!-- b&#45;&#45;d -->\n",
        "<g id=\"edge3\" class=\"edge\"><title>b&#45;&#45;d</title>\n",
        "<path fill=\"none\" stroke=\"black\" stroke-dasharray=\"1,5\" d=\"M7.74023,-18.2522C12.251,-29.075 17.9383,-42.721 22.3896,-53.4012\"/>\n",
        "</g>\n",
        "</g>\n",
        "</svg>\n"
       ],
       "text": [
        "Graph(Ptr{Void} @0x00007f90f60a7830,false)"
       ]
      }
     ],
     "prompt_number": 1
    }
   ],
   "metadata": {}
  }
 ]
}