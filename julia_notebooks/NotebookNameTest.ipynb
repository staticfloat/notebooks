{
 "metadata": {
  "language": "Julia",
  "name": "",
  "signature": "sha256:32347183aa6dccfeb8d95a63f63fd3b74fd08bc812a2034a500aa92911dfbd89"
 },
 "nbformat": 3,
 "nbformat_minor": 0,
 "worksheets": [
  {
   "cells": [
    {
     "cell_type": "code",
     "collapsed": false,
     "input": [
      "display(\"text/html\",\n",
      "\"\"\"\n",
      "<script charset=\"utf-8\">\n",
      "    julia_code = 'notebook_name = \"'+IPython.notebook.notebook_name+'\";';\n",
      "    IPython.notebook.kernel.execute(julia_code);\n",
      "</script>\n",
      "\"\"\")"
     ],
     "language": "python",
     "metadata": {},
     "outputs": [
      {
       "html": [
        "<script charset=\"utf-8\">\n",
        "    julia_code = 'notebook_name = \"'+IPython.notebook.notebook_name+'\";';\n",
        "    IPython.notebook.kernel.execute(julia_code);\n",
        "</script>\n"
       ],
       "metadata": {},
       "output_type": "display_data"
      }
     ],
     "prompt_number": 11
    },
    {
     "cell_type": "code",
     "collapsed": false,
     "input": [
      "# Note that this needs to be in a different cell, since it takes time for\n",
      "# the Julia -> Javascript -> Julia call chain to complete\n",
      "notebook_name"
     ],
     "language": "python",
     "metadata": {},
     "outputs": [
      {
       "metadata": {},
       "output_type": "pyout",
       "prompt_number": 13,
       "text": [
        "\"NotebookNameTest.ipynb\""
       ]
      }
     ],
     "prompt_number": 13
    }
   ],
   "metadata": {}
  }
 ]
}