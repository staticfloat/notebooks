{
 "cells": [
  {
   "cell_type": "code",
   "execution_count": 17,
   "metadata": {
    "collapsed": false
   },
   "outputs": [
    {
     "data": {
      "text/plain": [
       "Array{Float64,2}"
      ]
     },
     "metadata": {},
     "output_type": "display_data"
    },
    {
     "data": {
      "image/png": "[encoded data removed]",
      "text/plain": [
       "Gray Images.Image with:\n",
       "  data: 200x200 Array{Float64,2}\n",
       "  properties:\n",
       "    timedim: 0\n",
       "    colorspace: Gray\n",
       "    colordim: 0\n",
       "    spatialorder:  y x\n",
       "    pixelspacing:  1.0 1.0"
      ]
     },
     "execution_count": 17,
     "metadata": {},
     "output_type": "execute_result"
    }
   ],
   "source": [
    "using Images\n",
    "\n",
    "# Beautiful snowflakes\n",
    "const ϕ = golden\n",
    "function foo(z)\n",
    "  c = (φ-2)+(φ-1)im\n",
    "  max = 80\n",
    "  for n = 1:max\n",
    "    abs(z) ≥ 2 && return n-1\n",
    "    z = z^2 + c\n",
    "  end\n",
    "  return max\n",
    "end\n",
    "\n",
    "# Let's define foo over the complex plane, then create an n-by-n grid, sampling foo at each point\n",
    "foo(x, y) = foo(x + y*im)\n",
    "foo_grid(n) = broadcast(foo, linspace(-0.5, 1, n)', linspace(-1, 0.5, n))\n",
    "\n",
    "# Let's display it as an image, (scaled so that it converts nicely)\n",
    "data = foo_grid(200)/80\n",
    "display(typeof(data))\n",
    "img = convert(Image, data)"
   ]
  },
  {
   "cell_type": "code",
   "execution_count": 2,
   "metadata": {
    "collapsed": false
   },
   "outputs": [
    {
     "name": "stdout",
     "output_type": "stream",
     "text": [
      "/usr/local/Cellar/julia/0.3.7/lib/julia/libjulia.dylib\n",
      "/usr/lib/libSystem.B.dylib\n",
      "/System/Library/Frameworks/CoreFoundation.framework/Versions/A/CoreFoundation\n",
      "/System/Library/Frameworks/CoreServices.framework/Versions/A/CoreServices\n",
      "/usr/lib/libc++.1.dylib\n",
      "/usr/lib/libz.1.dylib\n",
      "/usr/local/opt/libffi/lib/libffi.6.dylib\n",
      "/usr/lib/system/libcache.dylib\n",
      "/usr/lib/system/libcommonCrypto.dylib\n",
      "/usr/lib/system/libcompiler_rt.dylib\n",
      "/usr/lib/system/libcopyfile.dylib\n",
      "/usr/lib/system/libcorecrypto.dylib\n",
      "/usr/lib/system/libdispatch.dylib\n",
      "/usr/lib/system/libdyld.dylib\n",
      "/usr/lib/system/libkeymgr.dylib\n",
      "/usr/lib/system/liblaunch.dylib\n",
      "/usr/lib/system/libmacho.dylib\n",
      "/usr/lib/system/libquarantine.dylib\n",
      "/usr/lib/system/libremovefile.dylib\n",
      "/usr/lib/system/libsystem_asl.dylib\n",
      "/usr/lib/system/libsystem_blocks.dylib\n",
      "/usr/lib/system/libsystem_c.dylib\n",
      "/usr/lib/system/libsystem_configuration.dylib\n",
      "/usr/lib/system/libsystem_coreservices.dylib\n",
      "/usr/lib/system/libsystem_coretls.dylib\n",
      "/usr/lib/system/libsystem_dnssd.dylib\n",
      "/usr/lib/system/libsystem_info.dylib\n",
      "/usr/lib/system/libsystem_kernel.dylib\n",
      "/usr/lib/system/libsystem_m.dylib\n",
      "/usr/lib/system/libsystem_malloc.dylib\n",
      "/usr/lib/system/libsystem_network.dylib\n",
      "/usr/lib/system/libsystem_networkextension.dylib\n",
      "/usr/lib/system/libsystem_notify.dylib\n",
      "/usr/lib/system/libsystem_platform.dylib\n",
      "/usr/lib/system/libsystem_pthread.dylib\n",
      "/usr/lib/system/libsystem_sandbox.dylib\n",
      "/usr/lib/system/libsystem_secinit.dylib\n",
      "/usr/lib/system/libsystem_stats.dylib\n",
      "/usr/lib/system/libsystem_trace.dylib\n",
      "/usr/lib/system/libunc.dylib\n",
      "/usr/lib/system/libunwind.dylib\n",
      "/usr/lib/system/libxpc.dylib\n",
      "/usr/lib/libobjc.A.dylib\n",
      "/usr/lib/libauto.dylib\n",
      "/usr/lib/libc++abi.dylib\n",
      "/usr/lib/libDiagnosticMessagesClient.dylib\n",
      "/usr/lib/libicucore.A.dylib\n",
      "/System/Library/Frameworks/CFNetwork.framework/Versions/A/CFNetwork\n",
      "/System/Library/Frameworks/CoreServices.framework/Versions/A/Frameworks/FSEvents.framework/Versions/A/FSEvents\n",
      "/System/Library/Frameworks/CoreServices.framework/Versions/A/Frameworks/CarbonCore.framework/Versions/A/CarbonCore\n",
      "/System/Library/Frameworks/CoreServices.framework/Versions/A/Frameworks/Metadata.framework/Versions/A/Metadata\n",
      "/System/Library/Frameworks/CoreServices.framework/Versions/A/Frameworks/OSServices.framework/Versions/A/OSServices\n",
      "/System/Library/Frameworks/CoreServices.framework/Versions/A/Frameworks/SearchKit.framework/Versions/A/SearchKit\n",
      "/System/Library/Frameworks/CoreServices.framework/Versions/A/Frameworks/AE.framework/Versions/A/AE\n",
      "/System/Library/Frameworks/CoreServices.framework/Versions/A/Frameworks/LaunchServices.framework/Versions/A/LaunchServices\n",
      "/System/Library/Frameworks/CoreServices.framework/Versions/A/Frameworks/DictionaryServices.framework/Versions/A/DictionaryServices\n",
      "/usr/lib/libbsm.0.dylib\n",
      "/System/Library/Frameworks/IOKit.framework/Versions/A/IOKit\n",
      "/System/Library/Frameworks/SystemConfiguration.framework/Versions/A/SystemConfiguration\n",
      "/System/Library/Frameworks/Security.framework/Versions/A/Security\n",
      "/usr/lib/libsqlite3.dylib\n",
      "/usr/lib/libxml2.2.dylib\n",
      "/usr/lib/system/libkxld.dylib\n",
      "/usr/lib/libxar.1.dylib\n",
      "/usr/lib/libpam.2.dylib\n",
      "/usr/lib/libOpenScriptingUtil.dylib\n",
      "/usr/lib/libbz2.1.0.dylib\n",
      "/System/Library/Frameworks/DiskArbitration.framework/Versions/A/DiskArbitration\n",
      "/System/Library/Frameworks/NetFS.framework/Versions/A/NetFS\n",
      "/System/Library/PrivateFrameworks/NetAuth.framework/Versions/A/NetAuth\n",
      "/System/Library/PrivateFrameworks/login.framework/Versions/A/Frameworks/loginsupport.framework/Versions/A/loginsupport\n",
      "/System/Library/PrivateFrameworks/DataDetectorsCore.framework/Versions/A/DataDetectorsCore\n",
      "/System/Library/PrivateFrameworks/TCC.framework/Versions/A/TCC\n",
      "/usr/lib/libmecabra.dylib\n",
      "/System/Library/Frameworks/Foundation.framework/Versions/C/Foundation\n",
      "/System/Library/Frameworks/ApplicationServices.framework/Versions/A/ApplicationServices\n",
      "/System/Library/Frameworks/CoreGraphics.framework/Versions/A/CoreGraphics\n",
      "/System/Library/Frameworks/CoreText.framework/Versions/A/CoreText\n",
      "/System/Library/Frameworks/ImageIO.framework/Versions/A/ImageIO\n",
      "/System/Library/Frameworks/ApplicationServices.framework/Versions/A/Frameworks/ATS.framework/Versions/A/ATS\n",
      "/System/Library/Frameworks/ApplicationServices.framework/Versions/A/Frameworks/ColorSync.framework/Versions/A/ColorSync\n",
      "/System/Library/Frameworks/ApplicationServices.framework/Versions/A/Frameworks/HIServices.framework/Versions/A/HIServices\n",
      "/System/Library/Frameworks/ApplicationServices.framework/Versions/A/Frameworks/LangAnalysis.framework/Versions/A/LangAnalysis\n",
      "/System/Library/Frameworks/ApplicationServices.framework/Versions/A/Frameworks/PrintCore.framework/Versions/A/PrintCore\n",
      "/System/Library/Frameworks/ApplicationServices.framework/Versions/A/Frameworks/QD.framework/Versions/A/QD\n",
      "/System/Library/Frameworks/ApplicationServices.framework/Versions/A/Frameworks/SpeechSynthesis.framework/Versions/A/SpeechSynthesis\n",
      "/System/Library/Frameworks/IOSurface.framework/Versions/A/IOSurface\n",
      "/System/Library/Frameworks/Accelerate.framework/Versions/A/Accelerate\n",
      "/System/Library/PrivateFrameworks/MultitouchSupport.framework/Versions/A/MultitouchSupport\n",
      "/System/Library/Frameworks/Accelerate.framework/Versions/A/Frameworks/vImage.framework/Versions/A/vImage\n",
      "/System/Library/Frameworks/Accelerate.framework/Versions/A/Frameworks/vecLib.framework/Versions/A/vecLib\n",
      "/System/Library/Frameworks/Accelerate.framework/Versions/A/Frameworks/vecLib.framework/Versions/A/libvDSP.dylib\n",
      "/System/Library/Frameworks/Accelerate.framework/Versions/A/Frameworks/vecLib.framework/Versions/A/libvMisc.dylib\n",
      "/System/Library/Frameworks/Accelerate.framework/Versions/A/Frameworks/vecLib.framework/Versions/A/libLAPACK.dylib\n",
      "/System/Library/Frameworks/Accelerate.framework/Versions/A/Frameworks/vecLib.framework/Versions/A/libBLAS.dylib\n",
      "/System/Library/Frameworks/Accelerate.framework/Versions/A/Frameworks/vecLib.framework/Versions/A/libLinearAlgebra.dylib\n",
      "/System/Library/Frameworks/ApplicationServices.framework/Versions/A/Frameworks/ATS.framework/Versions/A/Resources/libFontParser.dylib\n",
      "/System/Library/Frameworks/ApplicationServices.framework/Versions/A/Frameworks/ATS.framework/Versions/A/Resources/libFontRegistry.dylib\n",
      "/usr/lib/libextension.dylib\n",
      "/usr/lib/libarchive.2.dylib\n",
      "/usr/lib/liblangid.dylib\n",
      "/usr/lib/libCRFSuite.dylib\n",
      "/usr/lib/liblzma.5.dylib\n",
      "/System/Library/PrivateFrameworks/AppleVPA.framework/Versions/A/AppleVPA\n",
      "/System/Library/PrivateFrameworks/AppleJPEG.framework/Versions/A/AppleJPEG\n",
      "/System/Library/Frameworks/ImageIO.framework/Versions/A/Resources/libJPEG.dylib\n",
      "/System/Library/Frameworks/ImageIO.framework/Versions/A/Resources/libTIFF.dylib\n",
      "/System/Library/Frameworks/ImageIO.framework/Versions/A/Resources/libPng.dylib\n",
      "/System/Library/Frameworks/ImageIO.framework/Versions/A/Resources/libGIF.dylib\n",
      "/System/Library/Frameworks/ImageIO.framework/Versions/A/Resources/libJP2.dylib\n",
      "/System/Library/Frameworks/ImageIO.framework/Versions/A/Resources/libRadiance.dylib\n",
      "/System/Library/Frameworks/OpenGL.framework/Versions/A/OpenGL\n",
      "/System/Library/Frameworks/CoreVideo.framework/Versions/A/CoreVideo\n",
      "/System/Library/Frameworks/OpenGL.framework/Versions/A/Libraries/libGLU.dylib\n",
      "/System/Library/Frameworks/OpenGL.framework/Versions/A/Libraries/libGFXShared.dylib\n",
      "/System/Library/Frameworks/OpenGL.framework/Versions/A/Libraries/libGL.dylib\n",
      "/System/Library/Frameworks/OpenGL.framework/Versions/A/Libraries/libGLImage.dylib\n",
      "/System/Library/Frameworks/OpenGL.framework/Versions/A/Libraries/libCVMSPluginSupport.dylib\n",
      "/System/Library/Frameworks/OpenGL.framework/Versions/A/Libraries/libCoreVMClient.dylib\n",
      "/usr/lib/libcups.2.dylib\n",
      "/System/Library/Frameworks/Kerberos.framework/Versions/A/Kerberos\n",
      "/System/Library/Frameworks/GSS.framework/Versions/A/GSS\n",
      "/usr/lib/libresolv.9.dylib\n",
      "/usr/lib/libiconv.2.dylib\n",
      "/System/Library/PrivateFrameworks/Heimdal.framework/Versions/A/Heimdal\n",
      "/usr/lib/libheimdal-asn1.dylib\n",
      "/System/Library/Frameworks/OpenDirectory.framework/Versions/A/OpenDirectory\n",
      "/System/Library/PrivateFrameworks/CommonAuth.framework/Versions/A/CommonAuth\n",
      "/System/Library/Frameworks/OpenDirectory.framework/Versions/A/Frameworks/CFOpenDirectory.framework/Versions/A/CFOpenDirectory\n",
      "/System/Library/Frameworks/SecurityFoundation.framework/Versions/A/SecurityFoundation\n",
      "/System/Library/Frameworks/CoreAudio.framework/Versions/A/CoreAudio\n",
      "/System/Library/Frameworks/AudioToolbox.framework/Versions/A/AudioToolbox\n",
      "/System/Library/PrivateFrameworks/LanguageModeling.framework/Versions/A/LanguageModeling\n",
      "/usr/lib/libcmph.dylib\n",
      "/System/Library/Frameworks/CoreData.framework/Versions/A/CoreData\n",
      "/System/Library/Frameworks/ServiceManagement.framework/Versions/A/ServiceManagement\n",
      "/usr/lib/libxslt.1.dylib\n",
      "/usr/local/Cellar/julia/0.3.7/lib/julia/sys.dylib\n",
      "/usr/local/opt/openblas-julia/lib/libopenblas.dylib\n",
      "/usr/local/lib/gcc/4.9/libgfortran.3.dylib\n",
      "/usr/local/lib/gcc/4.9/libquadmath.0.dylib\n",
      "/usr/local/lib/gcc/4.9/libgcc_s.1.dylib\n",
      "/usr/local/lib/libpcre.dylib\n",
      "/usr/local/Cellar/julia/0.3.7/lib/julia/libdSFMT.dylib\n",
      "/usr/local/lib/libgmp.dylib\n",
      "/usr/local/lib/libmpfr.dylib\n",
      "/usr/local/Cellar/julia/0.3.7/lib/julia/libopenlibm.dylib.1.0\n",
      "/usr/local/Cellar/zeromq/4.0.5_2/lib/libzmq.4.dylib\n",
      "/Users/sabae/.julia/v0.3/Homebrew/deps/usr/lib/libnettle.dylib\n",
      "/Users/sabae/.julia/v0.3/Homebrew/deps/usr/lib/libMagickWand-6.Q16.dylib\n",
      "/Users/sabae/.julia/v0.3/Homebrew/deps/usr/Cellar/imagemagick/6.8.9-1_1/lib/libMagickCore-6.Q16.2.dylib\n",
      "/Users/sabae/.julia/v0.3/Homebrew/deps/usr/lib/libfreetype.6.dylib\n",
      "/Users/sabae/.julia/v0.3/Homebrew/deps/usr/lib/libfftw3.3.dylib\n",
      "/Users/sabae/.julia/v0.3/Homebrew/deps/usr/lib/liblzma.5.dylib\n",
      "/Users/sabae/.julia/v0.3/Homebrew/deps/usr/lib/libltdl.7.dylib\n",
      "/Users/sabae/.julia/v0.3/Homebrew/deps/usr/lib/libpng16.16.dylib\n",
      "/System/Library/Frameworks/Foundation.framework/Resources/BridgeSupport/Foundation.dylib\n",
      "/usr/local/Cellar/julia/0.3.7/lib/julia/libgrisu.dylib\n",
      "/Users/sabae/.julia/v0.3/Homebrew/deps/usr/Cellar/imagemagick/6.8.9-1_1/lib/ImageMagick/modules-Q16/coders/png.so\n",
      "/Users/sabae/.julia/v0.3/Homebrew/deps/usr/lib/libjpeg.8.dylib\n"
     ]
    }
   ],
   "source": [
    "for f in Sys.dllist()\n",
    "    println(f)\n",
    "end"
   ]
  },
  {
   "cell_type": "code",
   "execution_count": 5,
   "metadata": {
    "collapsed": false
   },
   "outputs": [
    {
     "name": "stdout",
     "output_type": "stream",
     "text": [
      "-----------------------------------------------------------\n"
     ]
    },
    {
     "data": {
      "text/plain": [
       "1-element Array{AbstractString,1}:\n",
       " \"/Users/sabae/.julia/v0.4/Homebrew/deps/usr/lib/libMagickWand-6.Q16.dylib\""
      ]
     },
     "metadata": {},
     "output_type": "display_data"
    },
    {
     "name": "stderr",
     "output_type": "stream",
     "text": [
      "INFO: Reading build script...\n"
     ]
    },
    {
     "name": "stdout",
     "output_type": "stream",
     "text": [
      "All loaded libwands:\n",
      "-----------------------------------------------------------\n",
      "\n",
      "-----------------------------------------------------------\n",
      "MAGICK Environment variables:\n",
      "-----------------------------------------------------------\n",
      "MAGICK_CONFIGURE_PATH: /Users/sabae/.julia/v0.4/Homebrew/deps/usr/Cellar/imagemagick/6.8.9-1_1/lib/ImageMagick/config-Q16\n",
      "MAGICK_CODER_MODULE_PATH: /Users/sabae/.julia/v0.4/Homebrew/deps/usr/Cellar/imagemagick/6.8.9-1_1/lib/ImageMagick/modules-Q16/coders\n",
      "\n",
      "-----------------------------------------------------------\n",
      "Images.jl deps.jl:\n",
      "-----------------------------------------------------------\n",
      "# This is an auto-generated file; do not edit\n",
      "\n",
      "# Pre-hooks\n",
      "\n",
      "# Macro to load a library\n",
      "macro checked_lib(libname, path)\n",
      "    ((VERSION >= v\"0.4.0-dev+3844\" ? Base.Libdl.dlopen_e : Base.dlopen_e)(path) == C_NULL) && error(\"Unable to load \\n\\n$libname ($path)\\n\\nPlease re-run Pkg.build(package), and restart Julia.\")\n",
      "    quote const $(esc(libname)) = $path end\n",
      "end\n",
      "\n",
      "# Load dependencies\n",
      "@checked_lib libwand \"/Users/sabae/.julia/v0.4/Homebrew/deps/usr/lib/libMagickWand-6.Q16.dylib\"\n",
      "\n",
      "# Load-hooks\n",
      "function __init__()\n",
      "    ENV[\"MAGICK_CONFIGURE_PATH\"] = joinpath(\"/Users/sabae/.julia/v0.4/Homebrew/deps/usr/Cellar/imagemagick/6.8.9-1_1\",\"lib\",\"ImageMagick\",\"config-Q16\")\n",
      "    ENV[\"MAGICK_CODER_MODULE_PATH\"] = joinpath(\"/Users/sabae/.julia/v0.4/Homebrew/deps/usr/Cellar/imagemagick/6.8.9-1_1\", \"lib\",\"ImageMagick\",\"modules-Q16\",\"coders\")\n",
      "    ENV[\"PATH\"] = joinpath(\"/Users/sabae/.julia/v0.4/Homebrew/deps/usr/Cellar/imagemagick/6.8.9-1_1\", \"bin\") * \":\" * ENV[\"PATH\"]\n",
      "    ccall((:MagickWandGenesis,libwand), Void, ())\n",
      "end\n",
      "\n",
      "\n",
      "-----------------------------------------------------------\n",
      "BinDeps.debug() output: (note, this can fail!)\n",
      "-----------------------------------------------------------\n",
      "The package declares 1 dependencies.\n",
      " - Library \"libwand\"\n",
      "    - Satisfied by:\n",
      "      - Homebrew Bottles imagemagick at /Users/sabae/.julia/v0.4/Homebrew/deps/usr/lib/libMagickWand-6.Q16.dylib\n",
      "    - Providers:\n",
      "      - Homebrew Bottles imagemagick\n",
      "\n",
      "-----------------------------------------------------------\n",
      "Pkg.build() output:\n",
      "-----------------------------------------------------------\n"
     ]
    },
    {
     "name": "stderr",
     "output_type": "stream",
     "text": [
      "INFO: Building Homebrew\n"
     ]
    },
    {
     "name": "stdout",
     "output_type": "stream",
     "text": [
      "HEAD is now at 8c6777b haskell-stack: update 0.1.5.0 bottle.\n",
      "HEAD is now at 1b584ee We definitely need gnome-icon-theme\n"
     ]
    },
    {
     "name": "stderr",
     "output_type": "stream",
     "text": [
      "INFO: Building Images\n"
     ]
    }
   ],
   "source": [
    "# Nice little Images.jl debugging script for OSX\n",
    "using Images\n",
    "\n",
    "println(\"-----------------------------------------------------------\")\n",
    "println(\"All loaded libwands:\")\n",
    "println(\"-----------------------------------------------------------\")\n",
    "display(filter(x -> contains(lowercase(x), \"wand\"), Sys.Libdl.dllist()))\n",
    "\n",
    "println()\n",
    "println(\"-----------------------------------------------------------\")\n",
    "println(\"MAGICK Environment variables:\")\n",
    "println(\"-----------------------------------------------------------\")\n",
    "for key in ENV\n",
    "    # Do you have the magick in you?\n",
    "    if contains(key[1], \"MAGIC\")\n",
    "        println(\"$(key[1]): $(key[2])\")\n",
    "    end\n",
    "end\n",
    "\n",
    "println()\n",
    "println(\"-----------------------------------------------------------\")\n",
    "println(\"Images.jl deps.jl:\")\n",
    "println(\"-----------------------------------------------------------\")\n",
    "run(`cat $(Pkg.dir(\"Images\", \"deps/deps.jl\"))`)\n",
    "\n",
    "println()\n",
    "println(\"-----------------------------------------------------------\")\n",
    "println(\"BinDeps.debug() output: (note, this can fail!)\")\n",
    "println(\"-----------------------------------------------------------\")\n",
    "try\n",
    "    using BinDeps\n",
    "    BinDeps.debug(\"Images\")\n",
    "end\n",
    "\n",
    "println()\n",
    "println(\"-----------------------------------------------------------\")\n",
    "println(\"Pkg.build() output:\")\n",
    "println(\"-----------------------------------------------------------\")\n",
    "Pkg.build(\"Images\")"
   ]
  }
 ],
 "metadata": {
  "kernelspec": {
   "display_name": "Julia 0.4.0-rc2",
   "language": "julia",
   "name": "julia-0.4"
  },
  "language_info": {
   "file_extension": ".jl",
   "mimetype": "application/julia",
   "name": "julia",
   "version": "0.4.0"
  }
 },
 "nbformat": 4,
 "nbformat_minor": 0
}
